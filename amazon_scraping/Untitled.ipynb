{
 "cells": [
  {
   "cell_type": "code",
   "execution_count": 16,
   "id": "41f03dd9-9b93-4810-ab61-c45580d2b1c8",
   "metadata": {},
   "outputs": [],
   "source": [
    "from selenium import webdriver\n",
    "from selenium.webdriver.common.by import By\n",
    "from selenium.webdriver.chrome.service import Service\n",
    "from selenium.webdriver.common.keys import Keys"
   ]
  },
  {
   "cell_type": "code",
   "execution_count": 18,
   "id": "b7029616-ac24-4292-86bc-4ef6f982afb5",
   "metadata": {},
   "outputs": [],
   "source": [
    "driver = webdriver.Chrome(service=Service(executable_path=\"chromedriver.exe\"))"
   ]
  },
  {
   "cell_type": "code",
   "execution_count": 19,
   "id": "183c08dd-49fe-40c8-abcb-af2aa39475c5",
   "metadata": {},
   "outputs": [],
   "source": [
    "\n",
    "driver.get(\"https://www.amazon.in/\")"
   ]
  },
  {
   "cell_type": "code",
   "execution_count": 20,
   "id": "41636da1-96e0-49a6-9a9c-5de03a6fd32c",
   "metadata": {},
   "outputs": [],
   "source": [
    "SEARCH = driver.find_element(By.ID,\"twotabsearchtextbox\")"
   ]
  },
  {
   "cell_type": "code",
   "execution_count": 21,
   "id": "a2f1bec5-11cc-40ee-ad48-1f6e3be06451",
   "metadata": {},
   "outputs": [],
   "source": [
    "SEARCH.send_keys(\"laptop\")\n",
    "SEARCH.send_keys(Keys.ENTER)"
   ]
  },
  {
   "cell_type": "code",
   "execution_count": 30,
   "id": "b1a7021e-36b4-4e74-91d5-8c82b75390e4",
   "metadata": {},
   "outputs": [
    {
     "name": "stdout",
     "output_type": "stream",
     "text": [
      "Acer Aspire Lite 12th Gen Intel Core i5-1235U Thin and Light Laptop (Windows 11 Home/16GB RAM/512GB SSD/Intel Iris Xe Graphics) AL15-52, 39.62cm (15.6\") Full HD Display, Metal Body, Steel Gray, 1.6 KG\n",
      "₹43,999 M.R.P:\n",
      "₹64,990\n",
      "Acer [Smartchoice] Aspire Lite AMD Ryzen 3 5300U Premium Thin and Light Laptop (Windows 11 Home/8 GB RAM/512 GB SSD) AL15-41 with 39.62 cm (15.6\") Full HD Display, Metal Body, Steel Gray, 1.6 KG\n",
      "₹28,999 M.R.P:\n",
      "₹47,900\n",
      "Dell 14 Thin & Light Laptop, 12th Gen Intel Core i3-1215U Processor/8GB/512GB SSD/Intel UHD Graphics/14.0\"(35.56cm) FHD/Windows 11 + MSO'21/15 Month McAfee/Spill-Resistant Keyboard/Grey/1.48kg\n",
      "₹34,990 M.R.P:\n",
      "₹57,778\n",
      "ASUS Vivobook Go 14 (2023), 14\" (35.56 cm) FHD (1920 x 1080) 16:9, Intel Celeron N4500, Thin and Light Laptop (8GB RAM/256GB SSD/Integrated Graphics/Windows 11 Home/Black/1.3 Kg), E410KA-EK013W\n",
      "₹23,299 M.R.P:\n",
      "₹28,999\n",
      "HP Laptop 15s, AMD Ryzen 3 5300U, 15.6-inch (39.6 cm), FHD, 8GB DDR4, 512GB SSD, AMD Radeon graphics, Thin & light, Dual speakers (Win 11, MSO 2019, Silver, 1.69 kg), eq2143AU\n",
      "₹31,990 M.R.P:\n",
      "₹47,999\n",
      "Acer Aspire Lite 12th Gen Intel Core i3-1215U Premium Metal Laptop (Windows 11 Home/8 GB RAM/512GB SSD) AL15-52, 39.62cm (15.6\") Full HD Display, Metal Body, Steel Gray, 1.59 Kg\n",
      "₹31,999 M.R.P:\n",
      "₹52,990\n",
      "HP Laptop 15s, 12th Gen Intel Core i3, 15.6-inch (39.6 cm), 8GB DDR4, 512GB SSD, Thin & light, Dual speakers (Win 11, MSO 2021, Silver, 1.69 kg), fq5007TU / FQ5327TU\n",
      "₹37,990 M.R.P:\n",
      "₹51,134\n",
      "ASUS Vivobook 16 (2023)Thin & Light Laptop,Intel Core i9-13900H 13th Gen, 16\" (40.64 cm) FHD+(16GB RAM/512GB SSD/Intel Iris Xe/Win 11/Office 2021/Backlit KB/Fingerprint/Black/1.88 kg) X1605VA-MB947WS\n",
      "₹79,990 M.R.P:\n",
      "₹1,16,990\n",
      "\n",
      "\n",
      "\n",
      "\n",
      "Chuwi HeroBook Pro 14.1'' Intel Celeron N4020 Laptop with 8GB RAM, 256GB SSD, Windows 11, 1TB Expand, FHD IPS, Ultra Slim, USB3.0, Mini-HDMI, Webcam\n",
      "₹16,490 M.R.P:\n",
      "₹34,990\n",
      "Lenovo IdeaPad 1 AMD Ryzen 5 5500U 15.6\" HD Thin and Light Laptop (16GB/512GB SSD/Windows 11 Home/MS Office 2021/Cloud Grey/1.61Kg), 82R400ERIN\n",
      "₹38,400 M.R.P:\n",
      "₹58,390\n",
      "HP Laptop 15s, 12th Gen Intel Core i5-1235U, 15.6-inch (39.6 cm), FHD, 16GB DDR4, 512GB SSD, Intel Iris Xe graphics, Backlit KB,MSO,Thin & Light, Dual speakers (Win 11, Silver, 1.69 kg), fq5330TU\n",
      "₹52,490 M.R.P:\n",
      "₹68,223\n",
      "ASUS VivoBook 15 (2021) Thin and Light Laptop, Dual Core Intel Celeron N4020, 15.6-inch (39.62 cm) HD, (4GB RAM/256GB SSD/Integrated Graphics/Windows 11 Home/Transparent Silver/1.8 Kg), X515MA-BR011W\n",
      "₹20,990 M.R.P:\n",
      "₹33,990\n",
      "Lenovo V15 Intel Celeron N4500 15.6\" (39.62 cm) FHD (1920x1080) Antiglare 250 Nits Thin and Light Laptop (8GB RAM/256GB SSD/Windows 11 Home/Black/1Y Onsite/1.7 kg), 82QYA00MIN\n",
      "₹21,990 M.R.P:\n",
      "₹89,990\n",
      "HP Laptop 15s, AMD Ryzen 3 5300U, 15.6-inch (39.6 cm), FHD, 8GB DDR4, 512GB SSD, AMD Radeon graphics, Thin & light, Dual speakers (Win 11, MSO 2021, Silver, 1.69 kg), eq2212AU\n",
      "₹31,980 M.R.P:\n",
      "₹44,783\n",
      "Dell 15 Thin & Light Laptop, Intel Core i5-1235U Processor/16GB DDR4/512GB SSD/Intel UHD Graphics/15.6\" (39.62cm) FHD Display/Win 11 + MSO'21/15 Month McAfee/Carbon Black/Spill-Resistant KB/1.69kg\n",
      "₹49,990 M.R.P:\n",
      "₹67,457\n",
      "Dell 15 Thin & Light Laptop, 13th Gen Intel Core i3-1305U Processor, 8GB DDR4, 512GB SSD, 15.6\" (39.62cm)FHD 120Hz 250 nits Display, Intel UHD GraphicsWin 11 + MSO'21, 15 Months McAfee, Black, 1.66kg\n",
      "₹40,990 M.R.P:\n",
      "₹51,254\n",
      "Acer Aspire Lite AMD Ryzen 5 5500U Premium Thin and Light Laptop (16 GB RAM/512 GB SSD/Windows 11 Home) AL15-41, 39.62 cm (15.6\") Full HD Display, Metal Body, Steel Gray, 1.59 KG\n",
      "₹35,999 M.R.P:\n",
      "₹59,990\n",
      "HP Laptop 15,12th Gen Intel Core i3-1215U,15.6 inch(39.6 cm),FHD,Anti-Glare,8 GB DDR4,512 GB SSD,Windows 11,MSO,Dual Speakers,1.69 kg,Natural Silver,15s-fq5326TU\n",
      "₹36,970 M.R.P:\n",
      "₹48,419\n",
      "HP Laptop 15s, 12th Gen Intel Core i3, 15.6-inch (39.6 cm), 8GB DDR4, 512GB SSD, Thin & light, Dual speakers (Win 11, MSO 2021, Silver, 1.69 kg), fq5007TU / FQ5327TU\n",
      "₹37,990 M.R.P:\n",
      "₹51,134\n",
      "ASUS Vivobook 15, Intel Celeron N4020, 15.6\" (39.62 cms) HD, Thin and Light Laptop (8GB/512GB SSD/Integrated Graphics/Windows 11/Office 2021/Silver/1.8 kg), X515MA-BR022WS\n",
      "₹26,990 M.R.P:\n",
      "₹38,990\n",
      "Lenovo LOQ 2024 12th Gen Intel Core i5-12450HX 15.6\" (39.6cm) 144Hz 300Nits FHD IPS Gaming Laptop (16GB/512GB SSD/Win 11/NVIDIA RTX 3050 6GB Graphics/100% sRGB/3 Mon. Game Pass/Grey/2.4Kg), 83GS003NIN\n",
      "₹65,990 M.R.P:\n",
      "₹93,290\n",
      "Dell 15 Thin & Light Laptop, 12th Gen Intel Core i5-1235U Processor, 8GB, 512GB SSD, 15.6\" (39.62cm) FHD Display, Win 11 + MSO'21, 15 Month McAfee Antivirus, Black, Spill-Resistant Keyboard,1.66kg\n",
      "₹46,990 M.R.P:\n",
      "₹62,088\n",
      "Chuwi HeroBook Pro 14.1'' Intel Celeron N4020 Laptop with 8GB RAM, 256GB SSD, Windows 11, 1TB Expand, FHD IPS, Ultra Slim, USB3.0, Mini-HDMI, Webcam\n",
      "₹16,490 M.R.P:\n",
      "₹34,990\n",
      "Dell 15 Thin & Light Laptop, Intel Core 13th Generation i5-1334U Processor, 16GB DDR4 & 512GB SSD, 15.6\" (39.62cm) FHD 120Hz 250 nits, Win 11 + MSO'21 + 15 Month Mcafee, Carbon Black, 1.66kg\n",
      "₹56,149 M.R.P:\n",
      "₹69,027\n",
      "Apple 2023 MacBook Pro Laptop M2 Max chip with 12‑core CPU and 38‑core GPU: 33.74 cm (16.2-inch), 32GB Unified Memory, 1TB SSD Storage. Works with iPhone/iPad; Space Grey\n",
      "₹3,49,900\n",
      "ZEBRONICS PRO Series Y NBC 2S, Intel Core 11th Gen i5 Processor 16GB RAM & 512GB SSD Laptop, 15.6 Inch (39.6 CM), IPS Display, Ultra Slim, 38.5Wh Large Battery, Windows 11, Silver, 1.76 Kg\n",
      "₹28,490 M.R.P:\n",
      "₹48,999\n",
      "Robustrion Cover for iPad 10th Generation Cover Case, Armor Cover for iPad 10th Generation/iPad 10th Gen with [Pencil Holder] [Handle] [Shoulder Strap] - Rainbow Red\n",
      "₹1,599 M.R.P:\n",
      "₹3,999\n"
     ]
    }
   ],
   "source": [
    "for name in driver.find_elements(By.CSS_SELECTOR, \".a-link-normal s-underline-text s-underline-link-text s-link-style a-text-normal\".replace(\" \",\".\")):\n",
    "        print(name.text)"
   ]
  },
  {
   "cell_type": "code",
   "execution_count": 33,
   "id": "ec4810af-a1b6-4f9c-b40f-6f912d2a1fb7",
   "metadata": {},
   "outputs": [
    {
     "name": "stdout",
     "output_type": "stream",
     "text": [
      "43,999\n",
      "28,999\n",
      "34,990\n",
      "23,299\n",
      "31,990\n",
      "31,999\n",
      "37,990\n",
      "79,990\n",
      "16,490\n",
      "38,400\n",
      "52,490\n",
      "20,990\n",
      "21,990\n",
      "31,980\n",
      "49,990\n",
      "40,990\n",
      "35,999\n",
      "36,970\n",
      "37,990\n",
      "26,990\n",
      "65,990\n",
      "46,990\n",
      "16,490\n",
      "56,149\n",
      "3,49,900\n",
      "28,490\n",
      "1,599\n"
     ]
    }
   ],
   "source": [
    "for div in driver.find_elements(By.CLASS_NAME,'a-price-whole'):\n",
    "    if div.text != \"\":\n",
    "      print(div.text)\n",
    "    "
   ]
  },
  {
   "cell_type": "code",
   "execution_count": 24,
   "id": "095251ce-e6c0-41eb-9320-45bc8be2084c",
   "metadata": {},
   "outputs": [
    {
     "name": "stdout",
     "output_type": "stream",
     "text": [
      "43,999\n",
      "28,999\n",
      "34,990\n",
      "23,299\n",
      "31,990\n",
      "31,999\n",
      "37,990\n",
      "79,990\n",
      "\n",
      "\n",
      "16,490\n",
      "38,400\n",
      "52,490\n",
      "20,990\n",
      "21,990\n",
      "31,980\n",
      "49,990\n",
      "40,990\n",
      "35,999\n",
      "36,970\n",
      "37,990\n",
      "26,990\n",
      "65,990\n",
      "46,990\n",
      "16,490\n",
      "56,149\n",
      "3,49,900\n",
      "28,490\n",
      "1,599\n"
     ]
    }
   ],
   "source": [
    "for div in driver.find_elements(By.CLASS_NAME,'a-price-whole'):\n",
    "      print(div.text)"
   ]
  },
  {
   "cell_type": "code",
   "execution_count": 26,
   "id": "cea7fa27-0d04-4001-9052-89efc7a2dc73",
   "metadata": {},
   "outputs": [
    {
     "name": "stdout",
     "output_type": "stream",
     "text": [
      "<selenium.webdriver.chrome.webdriver.WebDriver (session=\"11f8bef79f5d675e38ee9d3b14d4140e\")>\n"
     ]
    }
   ],
   "source": [
    "print(driver)"
   ]
  },
  {
   "cell_type": "code",
   "execution_count": null,
   "id": "847168e8-e80e-4d4e-88fd-b23c90833127",
   "metadata": {},
   "outputs": [],
   "source": []
  }
 ],
 "metadata": {
  "kernelspec": {
   "display_name": "Python 3 (ipykernel)",
   "language": "python",
   "name": "python3"
  },
  "language_info": {
   "codemirror_mode": {
    "name": "ipython",
    "version": 3
   },
   "file_extension": ".py",
   "mimetype": "text/x-python",
   "name": "python",
   "nbconvert_exporter": "python",
   "pygments_lexer": "ipython3",
   "version": "3.11.7"
  }
 },
 "nbformat": 4,
 "nbformat_minor": 5
}
